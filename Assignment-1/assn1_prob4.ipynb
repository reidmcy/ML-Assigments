{
 "cells": [
  {
   "cell_type": "code",
   "execution_count": 1,
   "metadata": {
    "collapsed": false
   },
   "outputs": [],
   "source": [
    "from __future__ import print_function, unicode_literals, with_statement, absolute_import, generators, nested_scopes, division\n",
    "import os\n",
    "import subprocess\n",
    "from pyspark.sql import SparkSession\n",
    "\n",
    "runLocal = True\n",
    "\n",
    "if runLocal:\n",
    "    spark  = SparkSession.builder.master('local').appName('SOU').getOrCreate()\n",
    "else:\n",
    "    p = subprocess.Popen(['sinteractive', '--partition=broadwl', '--cpus-per-task=10', '--time=00:30:00'], stdout=subprocess.PIPE, shell = True)\n",
    "    print(p.stdout.read())\n",
    "    # start spark master program on this machine and register worker nodes\n",
    "    os.system('start-spark-slurm.sh&') # use & to put it into background\n",
    "    # get ip address of this machine\n",
    "    ip = os.popen('hostname -i').read().strip('\\n')\n",
    "    # change 'local' to be ip of master node\n",
    "    spark = SparkSession.builder \\\n",
    "        .master('spark://' + ip + ':7077') \\\n",
    "        .appName('Spark Try') \\\n",
    "        .getOrCreate()\n",
    "    print('Spark Session web UI: http://{}:4040'.format(ip))"
   ]
  },
  {
   "cell_type": "code",
   "execution_count": 2,
   "metadata": {
    "collapsed": false
   },
   "outputs": [],
   "source": [
    "import re\n",
    "import matplotlib.pyplot as plt\n",
    "import seaborn\n",
    "import pyspark.sql.functions\n",
    "import functools\n",
    "import numpy as np\n",
    "import seaborn\n",
    "%matplotlib inline"
   ]
  },
  {
   "cell_type": "code",
   "execution_count": 3,
   "metadata": {
    "collapsed": true
   },
   "outputs": [],
   "source": [
    "df = spark.read.json('/project/cmsc25025/sou/speeches.json')"
   ]
  },
  {
   "cell_type": "markdown",
   "metadata": {},
   "source": [
    "# Part a"
   ]
  },
  {
   "cell_type": "code",
   "execution_count": 68,
   "metadata": {
    "collapsed": false
   },
   "outputs": [
    {
     "name": "stdout",
     "output_type": "stream",
     "text": [
      "+--------------------+--------------------+----+--------------------+--------+\n",
      "|           president|                text|year|           sentences|year_int|\n",
      "+--------------------+--------------------+----+--------------------+--------+\n",
      "|        James Monroe| Fellow-Citizens ...|1821|[Fellow-Citizens ...|    1821|\n",
      "|    William McKinley| To the Senate an...|1897|[To the Senate an...|    1897|\n",
      "|Dwight D. Eisenhower|[Delivered in per...|1960|[[Delivered in pe...|    1960|\n",
      "|     Calvin Coolidge|Since the close o...|1923|[Since the close ...|    1923|\n",
      "|       James Madison| Fellow-Citizens ...|1816|[Fellow-Citizens ...|    1816|\n",
      "+--------------------+--------------------+----+--------------------+--------+\n",
      "only showing top 5 rows\n",
      "\n"
     ]
    }
   ],
   "source": [
    "titles = [\n",
    "    'Mr',\n",
    "    'Ms',\n",
    "    'Gen',\n",
    "]\n",
    "#Negative look ahead for titles doesn't worh that well\n",
    "sentRegex = re.compile(r'\\.\\s+(?=[A-Z])')\n",
    "\n",
    "@pyspark.sql.functions.udf\n",
    "def sentenceSplit(s):\n",
    "    return [sent.strip() for sent in re.split(sentRegex, s)]\n",
    "\n",
    "sentencesDF = df.withColumn('sentences', sentenceSplit(df.text)).withColumn('year_int', df.year.cast('int'))\n",
    "sentencesDF.show(5)"
   ]
  },
  {
   "cell_type": "markdown",
   "metadata": {},
   "source": [
    "Sentences have been found and are in the `sentences` column of the dataframe"
   ]
  },
  {
   "cell_type": "markdown",
   "metadata": {
    "collapsed": true
   },
   "source": [
    "# Part b"
   ]
  },
  {
   "cell_type": "code",
   "execution_count": 70,
   "metadata": {
    "collapsed": false
   },
   "outputs": [],
   "source": [
    "wordRegex = re.compile(r'\\s+')\n",
    "\n",
    "@pyspark.sql.functions.udf\n",
    "def wordsplit(sents):\n",
    "    return [re.split(wordRegex, sent) for sent in sents]\n",
    "\n",
    "@pyspark.sql.functions.udf\n",
    "def sentLengths(splitSents):\n",
    "    return [len(sent) for sent in splitSents]\n",
    "\n",
    "@pyspark.sql.functions.udf\n",
    "def countSents(sents):\n",
    "    return len(sents)\n",
    "\n",
    "@pyspark.sql.functions.udf\n",
    "def avgNumWords(numSents):\n",
    "    l = len(numSents)\n",
    "    return sum(numSents) / l\n",
    "\n",
    "@pyspark.sql.functions.udf\n",
    "def totWords(numWords):\n",
    "    return sum(numWords)\n",
    "\n",
    "@pyspark.sql.functions.udf\n",
    "def longestSentComb(splitSents):\n",
    "    s = sorted(splitSents, key = lambda x: len(x))\n",
    "    return [len(s[-1]), ' '.join(s[-1])]\n",
    "\n",
    "@pyspark.sql.functions.udf\n",
    "def shortestSentComb(splitSents):\n",
    "    s = sorted(splitSents, key = lambda x: len(x))\n",
    "    return [len(s[0]), ' '.join(s[0])]\n",
    "\n",
    "@pyspark.sql.functions.udf\n",
    "def getFirst(l):\n",
    "    return l[0]\n",
    "\n",
    "@pyspark.sql.functions.udf\n",
    "def getSecond(l):\n",
    "    return l[1]\n",
    "\n",
    "wordDF = sentencesDF.withColumn('words', wordsplit(sentencesDF.sentences))\n",
    "wordDF = wordDF.withColumn('num_words', sentLengths(wordDF.words))\n",
    "wordDF = wordDF.withColumn('num_sents', countSents(wordDF.sentences))\n",
    "wordDF = wordDF.withColumn('avgNum_words', avgNumWords(wordDF.num_words))\n",
    "wordDF = wordDF.withColumn('total_words', totWords(wordDF.num_words).cast('int'))\n",
    "\n",
    "wordDF = wordDF.withColumn('longest_sentence_combined', longestSentComb(wordDF.words))\n",
    "wordDF = wordDF.withColumn('longest_len', getFirst(wordDF.longest_sentence_combined))\n",
    "wordDF = wordDF.withColumn('longest_sentence', getSecond(wordDF.longest_sentence_combined))\n",
    "\n",
    "wordDF = wordDF.withColumn('shortest_sentence_combined', shortestSentComb(wordDF.words))\n",
    "wordDF = wordDF.withColumn('shortest_len', getFirst(wordDF.shortest_sentence_combined))\n",
    "wordDF = wordDF.withColumn('shortest_sentence', getSecond(wordDF.shortest_sentence_combined))\n",
    "\n",
    "\n",
    "perYear = wordDF.orderBy(wordDF.year_int.asc()).groupby('year_int').agg({'avgNum_words' : 'mean', 'num_sents' : 'mean'})"
   ]
  },
  {
   "cell_type": "code",
   "execution_count": null,
   "metadata": {
    "collapsed": false
   },
   "outputs": [],
   "source": [
    "def regression(x, y):\n",
    "    Y = np.matrix(y).T\n",
    "    X = np.matrix(np.stack([np.ones((len(x), )), x], axis = 1))\n",
    "    B = np.linalg.inv(X.T * X) * X.T * Y\n",
    "    return np.array(B)\n",
    "\n",
    "perYearDF = perYear.toPandas()\n",
    "\n",
    "wordsParams = regression(perYearDF['year_int'], perYearDF['avg(avgNum_words)'])\n",
    "\n",
    "sentsParams = regression(perYearDF['year_int'], perYearDF['avg(num_sents)'])\n",
    "\n",
    "perYearDF['wordsOLS'] = perYearDF['year_int']* wordsParams[1] + wordsParams[0] \n",
    "perYearDF['sentsOLS'] = perYearDF['year_int']* sentsParams[1] + sentsParams[0]"
   ]
  },
  {
   "cell_type": "code",
   "execution_count": 17,
   "metadata": {
    "collapsed": false
   },
   "outputs": [
    {
     "data": {
      "image/png": "[encoded data removed]",
      "text/plain": [
       "<matplotlib.figure.Figure at 0x7fe803a0c2d0>"
      ]
     },
     "metadata": {},
     "output_type": "display_data"
    },
    {
     "name": "stdout",
     "output_type": "stream",
     "text": [
      "[[  1.28468306e+02]\n",
      " [ -5.92617919e-02]]\n"
     ]
    }
   ],
   "source": [
    "fig, ax = plt.subplots()\n",
    "\n",
    "ax.scatter(perYearDF['year_int'], perYearDF['avg(avgNum_words)'], color = 'r')\n",
    "ax.plot(perYearDF['year_int'], perYearDF['wordsOLS'], '--', color = 'b')\n",
    "ax.set_ylabel('avg(avgNum_words)', color='b')\n",
    "\n",
    "ax.set_xlabel('Year')\n",
    "ax.set_title(\"Counts per Year\")\n",
    "plt.show()\n",
    "print(wordsParams)"
   ]
  },
  {
   "cell_type": "markdown",
   "metadata": {},
   "source": [
    "We have the per year average number of words, which shows a downward trend of about 1.1 words every 10 years. "
   ]
  },
  {
   "cell_type": "code",
   "execution_count": 18,
   "metadata": {
    "collapsed": false
   },
   "outputs": [
    {
     "data": {
      "image/png": "[encoded data removed]",
      "text/plain": [
       "<matplotlib.figure.Figure at 0x7fe7cc553890>"
      ]
     },
     "metadata": {},
     "output_type": "display_data"
    },
    {
     "name": "stdout",
     "output_type": "stream",
     "text": [
      "[[ -2.18040434e+03]\n",
      " [  1.43378978e+00]]\n"
     ]
    }
   ],
   "source": [
    "fig, ax2 = plt.subplots()\n",
    "\n",
    "ax2.scatter(perYearDF['year_int'], perYearDF['avg(num_sents)'], color = 'r')\n",
    "ax2.plot(perYearDF['year_int'], perYearDF['sentsOLS'], '--', color = 'b')\n",
    "ax2.set_ylabel('avg(num_sents)', color='r')\n",
    "\n",
    "ax2.set_xlabel('Year')\n",
    "ax2.set_title(\"Counts per Year\")\n",
    "plt.show()\n",
    "print(sentsParams)"
   ]
  },
  {
   "cell_type": "markdown",
   "metadata": {
    "collapsed": false
   },
   "source": [
    "We have the per year average number of sentences, which shows a upward trend of about 7 sentences every 10 years. These two trends show the speeches are trending to towards more, shorter sentences. This could indicate a lowering of attention span for the audience."
   ]
  },
  {
   "cell_type": "markdown",
   "metadata": {},
   "source": [
    "# Part c"
   ]
  },
  {
   "cell_type": "code",
   "execution_count": 19,
   "metadata": {
    "collapsed": false
   },
   "outputs": [],
   "source": [
    "earlyDF = wordDF.filter(wordDF.year_int < 1913).select('year_int', 'total_words').toPandas()\n",
    "lateDF = wordDF.filter(wordDF.year_int > 1912).select('year_int', 'total_words').toPandas()\n",
    "\n",
    "earlyParams = regression(earlyDF['year_int'], earlyDF['total_words'])\n",
    "\n",
    "lateParams = regression(lateDF['year_int'], lateDF['total_words'])\n",
    "\n",
    "earlyDF['totOLS'] = earlyDF['year_int']* earlyParams[1] + earlyParams[0] \n",
    "lateDF['totOLS'] = lateDF['year_int']* lateParams[1] + lateParams[0]"
   ]
  },
  {
   "cell_type": "code",
   "execution_count": 20,
   "metadata": {
    "collapsed": false
   },
   "outputs": [
    {
     "data": {
      "image/png": "[encoded data removed]",
      "text/plain": [
       "<matplotlib.figure.Figure at 0x7fe803a3e410>"
      ]
     },
     "metadata": {},
     "output_type": "display_data"
    },
    {
     "name": "stdout",
     "output_type": "stream",
     "text": [
      "[[ -2.18040434e+03]\n",
      " [  1.43378978e+00]]\n"
     ]
    }
   ],
   "source": [
    "fig, ax = plt.subplots()\n",
    "\n",
    "ax.scatter(earlyDF['year_int'], earlyDF['total_words'], color = 'r')\n",
    "ax.plot(earlyDF['year_int'], earlyDF['totOLS'], '--', color = 'b')\n",
    "ax.set_ylabel('Words', color='r')\n",
    "\n",
    "ax.set_xlabel('Year')\n",
    "ax.set_title(\"Words per Year\")\n",
    "plt.show()\n",
    "print(sentsParams)"
   ]
  },
  {
   "cell_type": "code",
   "execution_count": 21,
   "metadata": {
    "collapsed": false
   },
   "outputs": [
    {
     "data": {
      "image/png": "[encoded data removed]",
      "text/plain": [
       "<matplotlib.figure.Figure at 0x7fe808a83650>"
      ]
     },
     "metadata": {},
     "output_type": "display_data"
    },
    {
     "name": "stdout",
     "output_type": "stream",
     "text": [
      "[[ -2.18040434e+03]\n",
      " [  1.43378978e+00]]\n"
     ]
    }
   ],
   "source": [
    "fig, ax = plt.subplots()\n",
    "\n",
    "ax.scatter(lateDF['year_int'], lateDF['total_words'], color = 'r')\n",
    "ax.plot(lateDF['year_int'], lateDF['totOLS'], '--', color = 'b')\n",
    "ax.set_ylabel('Words', color='r')\n",
    "\n",
    "ax.set_xlabel('Year')\n",
    "ax.set_title(\"Words per Year\")\n",
    "plt.show()\n",
    "print(sentsParams)"
   ]
  },
  {
   "cell_type": "markdown",
   "metadata": {},
   "source": [
    "1913 marked is when the SOU started being addressed directly to the US congress. Thus there is a much harder time limit and thus most addresses have the same temporal length, which have thus have similar word counts, unlike before."
   ]
  },
  {
   "cell_type": "markdown",
   "metadata": {
    "collapsed": false
   },
   "source": [
    "# Part d"
   ]
  },
  {
   "cell_type": "code",
   "execution_count": 22,
   "metadata": {
    "collapsed": true
   },
   "outputs": [],
   "source": [
    "presDF = wordDF.groupby('president').agg({'avgNum_words' : 'mean'}).toPandas()"
   ]
  },
  {
   "cell_type": "code",
   "execution_count": 23,
   "metadata": {
    "collapsed": false
   },
   "outputs": [
    {
     "name": "stdout",
     "output_type": "stream",
     "text": [
      "min: George Bush at 9.39\n",
      "25%: 12.23\n",
      "50%: 16.95\n",
      "75%: 19.15\n",
      "max: James Madison at 22.91\n"
     ]
    }
   ],
   "source": [
    "sortedDF = presDF.sort_values(by = 'avg(avgNum_words)')\n",
    "n = len(sortedDF)\n",
    "print(\"min: {} at {:.2f}\".format(*sortedDF.iloc[0]))\n",
    "print(\"25%: {:.2f}\".format((sortedDF.iloc[n // 4][1] + sortedDF.iloc[n // 4 + 1][1]) / 2))\n",
    "print(\"50%: {:.2f}\".format((sortedDF.iloc[n // 2][1] + sortedDF.iloc[n // 2 + 1][1]) / 2))\n",
    "print(\"75%: {:.2f}\".format((sortedDF.iloc[n // 4 * 3][1] + sortedDF.iloc[n // 4 * 3 + 1][1]) / 2))\n",
    "print(\"max: {} at {:.2f}\".format(*sortedDF.iloc[-1]))"
   ]
  },
  {
   "cell_type": "markdown",
   "metadata": {},
   "source": [
    "Above are shown all the requested statistics"
   ]
  },
  {
   "cell_type": "code",
   "execution_count": 76,
   "metadata": {
    "collapsed": false
   },
   "outputs": [
    {
     "name": "stdout",
     "output_type": "stream",
     "text": [
      "+------------+-----------------+\n",
      "|shortest_len|shortest_sentence|\n",
      "+------------+-----------------+\n",
      "|           1|       EISENHOWER|\n",
      "|           1|               Mr|\n",
      "|           1|           Second|\n",
      "|           1|            Marys|\n",
      "|           1|       EISENHOWER|\n",
      "|           1|               Mr|\n",
      "|           1|            Louis|\n",
      "|           1|             Hull|\n",
      "|           1|               Mr|\n",
      "|           1|               Mr|\n",
      "+------------+-----------------+\n",
      "only showing top 10 rows\n",
      "\n"
     ]
    }
   ],
   "source": [
    "wordDF.orderBy(wordDF.shortest_len.asc()).select('shortest_len', 'shortest_sentence').show(10)"
   ]
  },
  {
   "cell_type": "markdown",
   "metadata": {
    "collapsed": true
   },
   "source": [
    "The shortested sentences are shown above, you can see that the tokenizer has problems with prefixs, such as `'MR'`."
   ]
  },
  {
   "cell_type": "code",
   "execution_count": 78,
   "metadata": {
    "collapsed": false
   },
   "outputs": [
    {
     "name": "stdout",
     "output_type": "stream",
     "text": [
      "+-----------+----------------------------------------------------------------------------------------------------------------------------------------------------------------------------------------------------------------------------------------------------------------------------------------------------------------------------------------------------------------------------------------------------------------------------------------------------------------------------------------------------------------------------------------------------------------------------------------------------------------------+\n",
      "|longest_len|longest_sentence                                                                                                                                                                                                                                                                                                                                                                                                                                                                                                                                                                                                      |\n",
      "+-----------+----------------------------------------------------------------------------------------------------------------------------------------------------------------------------------------------------------------------------------------------------------------------------------------------------------------------------------------------------------------------------------------------------------------------------------------------------------------------------------------------------------------------------------------------------------------------------------------------------------------------+\n",
      "|99         |This result is signally honorable to Major-General Harrison, by whose military talents it was prepared; to Colonel Johnson and his mounted volunteers, whose impetuous onset gave a decisive blow to the ranks of the enemy, and to the spirit of the volunteer militia, equally brave and patriotic, who bore an interesting part in the scene; more especially to the chief magistrate of Kentucky, at the head of them, whose heroism signalized in the war which established the independence of his country, sought at an advanced age a share in hardships and battles for maintaining its rights and its safely|\n",
      "|99         |Nevertheless, economic changes have taken place during that time which have placed certain domestic products at a disadvantage and new industries have come into being, all of which create the necessity for some limited changes in the schedules and in the administrative clauses of the laws as written in 1922. \"It would seem to me that the test of necessity for revision is, in the main, whether there has been a substantial slackening of activity in an industry during the past few years, and a consequent decrease of employment due to insurmountable competition in the products of that industry  |\n",
      "|99         |As before stated, specific duties would, in my opinion, afford the most perfect remedy for this evil; but if you should not concur in this view, then, as a partial remedy, I beg leave respectfully to recommend that instead of taking the invoice of the article abroad as a means of determining its value here, the correctness of which invoice it is in many cases impossible to verify, the law be so changed as to require a home valuation or appraisal, to be regulated in such manner as to give, as far as practicable, uniformity in the several ports                                                  |\n",
      "+-----------+----------------------------------------------------------------------------------------------------------------------------------------------------------------------------------------------------------------------------------------------------------------------------------------------------------------------------------------------------------------------------------------------------------------------------------------------------------------------------------------------------------------------------------------------------------------------------------------------------------------------+\n",
      "only showing top 3 rows\n",
      "\n"
     ]
    }
   ],
   "source": [
    "wordDF.orderBy(wordDF.longest_len.desc()).select('longest_len', 'longest_sentence').show(3, truncate = False)"
   ]
  },
  {
   "cell_type": "markdown",
   "metadata": {
    "collapsed": true
   },
   "source": [
    "The longest sentences are shown above there are three at 99 words so I am showing the first 3."
   ]
  },
  {
   "cell_type": "code",
   "execution_count": null,
   "metadata": {
    "collapsed": true
   },
   "outputs": [],
   "source": []
  }
 ],
 "metadata": {
  "kernelspec": {
   "display_name": "Python 2",
   "language": "python",
   "name": "python2"
  },
  "language_info": {
   "codemirror_mode": {
    "name": "ipython",
    "version": 2
   },
   "file_extension": ".py",
   "mimetype": "text/x-python",
   "name": "python",
   "nbconvert_exporter": "python",
   "pygments_lexer": "ipython2",
   "version": "2.7.12"
  }
 },
 "nbformat": 4,
 "nbformat_minor": 2
}
