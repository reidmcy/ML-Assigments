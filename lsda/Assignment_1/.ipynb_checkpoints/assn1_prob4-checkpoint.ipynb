{
 "cells": [
  {
   "cell_type": "code",
   "execution_count": 25,
   "metadata": {
    "collapsed": false
   },
   "outputs": [],
   "source": [
    "import os\n",
    "import re\n",
    "import matplotlib.pyplot as plt\n",
    "import numpy as np\n",
    "\n",
    "from pyspark.sql import SparkSession\n",
    "from pyspark.sql.functions import udf\n",
    "from pyspark.sql.types import IntegerType, FloatType\n",
    "from __future__ import print_function, unicode_literals, with_statement, absolute_import, generators, nested_scopes, division\n",
    "%matplotlib inline "
   ]
  },
  {
   "cell_type": "code",
   "execution_count": 2,
   "metadata": {
    "collapsed": true
   },
   "outputs": [],
   "source": [
    "# Local Spark\n",
    "# spark session is now the entry point of spark program\n",
    "# for line 8, can use local[n] for run spark locally with n cores\n",
    "spark = SparkSession.builder \\\n",
    "    .master('local') \\\n",
    "    .appName('Spark Try') \\\n",
    "    .getOrCreate()"
   ]
  },
  {
   "cell_type": "code",
   "execution_count": 3,
   "metadata": {
    "collapsed": false
   },
   "outputs": [],
   "source": [
    "#interactive nodes\n",
    "\n",
    "# # start spark master program on this machine and register worker nodes\n",
    "# os.system('start-spark-slurm.sh&') # use & to put it into background\n",
    "\n",
    "# # get ip address of this machine\n",
    "# ip = os.popen('hostname -i').read().strip('\\n')\n",
    "# print 'Spark Master web UI: http://{}:8080'.format(ip)\n",
    "   \n",
    "# # get ip address of master node (current machine)\n",
    "# ip = os.popen('hostname -i').read().strip('\\n')\n",
    "\n",
    "# # change 'local' to be ip of master node\n",
    "# spark = SparkSession.builder \\\n",
    "#     .master('spark://' + ip + ':7077') \\\n",
    "#     .appName('Spark Try') \\\n",
    "#     .getOrCreate()\n",
    "# print 'Spark Session web UI: http://{}:4040'.format(ip)"
   ]
  },
  {
   "cell_type": "code",
   "execution_count": 4,
   "metadata": {
    "collapsed": true
   },
   "outputs": [],
   "source": [
    "df = spark.read.json('/project/cmsc25025/sou/speeches.json')"
   ]
  },
  {
   "cell_type": "code",
   "execution_count": 5,
   "metadata": {
    "collapsed": false
   },
   "outputs": [
    {
     "name": "stdout",
     "output_type": "stream",
     "text": [
      "+--------------------+--------------------+----+\n",
      "|           president|                text|year|\n",
      "+--------------------+--------------------+----+\n",
      "|        James Monroe| Fellow-Citizens ...|1821|\n",
      "|    William McKinley| To the Senate an...|1897|\n",
      "|Dwight D. Eisenhower|[Delivered in per...|1960|\n",
      "|     Calvin Coolidge|Since the close o...|1923|\n",
      "|       James Madison| Fellow-Citizens ...|1816|\n",
      "|    Grover Cleveland| To the Congress ...|1886|\n",
      "|   John Quincy Adams| Fellow Citizens ...|1827|\n",
      "|  Theodore Roosevelt| To the Senate an...|1905|\n",
      "|   Lyndon B. Johnson|Mr. Speaker, Mr. ...|1965|\n",
      "|       James K. Polk| Fellow-Citizens ...|1848|\n",
      "|      Woodrow Wilson|Gentlemen of the ...|1913|\n",
      "|Dwight D. Eisenhower|[Delivered in per...|1955|\n",
      "|         George Bush|Mr. President and...|1991|\n",
      "|     Franklin Pierce| Fellow-Citizens ...|1856|\n",
      "|Franklin D. Roose...|To the Congress:\r",
      "...|1944|\n",
      "|   Lyndon B. Johnson|[Delivered in per...|1968|\n",
      "|      Andrew Johnson| Fellow-Citizens ...|1867|\n",
      "|      Woodrow Wilson|GENTLEMEN OF THE ...|1914|\n",
      "|      Harry S Truman|[As delivered in ...|1950|\n",
      "|      James Buchanan|Fellow-Citizens o...|1860|\n",
      "+--------------------+--------------------+----+\n",
      "only showing top 20 rows\n",
      "\n"
     ]
    }
   ],
   "source": [
    "df.show()"
   ]
  },
  {
   "cell_type": "markdown",
   "metadata": {},
   "source": [
    "# (a) Parse texts into sentences"
   ]
  },
  {
   "cell_type": "code",
   "execution_count": 6,
   "metadata": {
    "collapsed": false
   },
   "outputs": [
    {
     "data": {
      "text/plain": [
       "u' Fellow-Citizens of the Senate and House of Representatives:\\r\\n\\r\\n \\r\\n\\r\\nThe progress of our affairs since the last session has been such as may justly be claimed and expected under a Government deriving all its powers from an enlightened people, and under laws formed by their representatives, on great consideration, for the sole purpose of promoting the welfare and happiness of their constituents. In the execution of those laws and of the powers vested by the Constitution in the Executive, unremitted attention has been paid to the great objects to which they extend.\\r\\n\\r\\nIn the concerns which are exclusively internal there is good cause to be satisfied with the result. The laws have had their due operation and effect.\\r\\n\\r\\nIn those relating to foreign powers, I am happy to state that peace and amity are preserved with all by a strict observance on both sides of the rights of each.\\r\\n\\r\\nIn matters touching our commercial intercourse, where a difference of opinion has existed as to the conditions on which it should be placed, each party has pursued its own policy without giving just cause of offense to the other.\\r\\n\\r\\nIn this annual communication, especially when it is addressed to a new Congress, the whole scope of our political concerns naturally comes into view, that errors, if such have been committed, may be corrected; that defects which have become manifest may be remedied; and, on the other hand, that measures which were adopted on due deliberation, and which experience has shewn are just in themselves and essential to the public welfare, should be persevered in and supported. In performing this necessary and very important duty I shall endeavor to place before you on its merits every subject that is thought to be entitled to your particular attention in as distinct and clear a light as I may be able.\\r\\n\\r\\nBy an act of [1815-03-03], so much of the several acts as imposed higher duties on the tonnage of foreign vessels and on the manufactures and productions of foreign nations when imported into the United States in foreign vessels than when imported in vessels of the United States were repealed so far as respected the manufactures and productions of the nation to which such vessels belonged, on the condition that the repeal should take effect only in favor of any foreign nation when the Executive should be satisfied that such discriminating duties to the disadvantage of the United States had likewise been repealed by such nation.\\r\\n\\r\\nBy this act a proposition was made to all nations to place our commerce with each on a basis which it was presumed would be acceptable to all. Every nation was allowed to bring its manufactures and productions into our ports and to take the manufactures and productions of the United States back to their ports in their own vessels on the same conditions that they might be transported in vessels of the United States, and in return it was required that a like accommodation should be granted to the vessels of the United States in the ports of other powers. The articles to be admitted or prohibited on either side formed no part of the proposed arrangement. Each party would retain the right to admit or prohibit such articles from the other as it thought proper, and on its own conditions.\\r\\n\\r\\nWhen the nature of the commerce between the United States and every other country was taken into view, it was thought that this proposition would be considered fair, and even liberal, by every power. The exports of the United States consist generally of articles of the 1st necessity and of rude materials in demand for foreign manufactories, of great bulk, requiring for their transportation many vessels, the return for which in the manufactures and productions of any foreign country, even when disposed of there to advantage, may be brought in a single vessel. This observation is the more especially applicable to those countries from which manufactures alone are imported, but it applies in great extent to the European dominions of every European power and in a certain extent to all the colonies of those powers. By placing, then, the navigation precisely on the same ground in the transportation of exports and imports between the United States and other countries it was presumed that all was offered which could be desired. It seemed to be the only proposition which could be devised which would retain even the semblance of equality in our favor.\\r\\n\\r\\nMany considerations of great weight gave us a right to expect that this commerce should be extended to the colonies as well as to the European dominions of other powers. With the latter, especially with countries exclusively manufacturing, the advantage was manifestly on their side. An indemnity for that loss was expected from a trade with the colonies, and with the greater reason as it was known that the supplies which the colonies derived from us were of the highest importance to them, their labor being bestowed with so much greater profit in the culture of other articles; and because, likewise, the articles of which those supplies consisted, forming so large a proportion of the exports of the United States, were never admitted into any of the ports of Europe except in cases of great emergency to avert a serious calamity.\\r\\n\\r\\nWhen no article is admitted which is not required to supply the wants of the party admitting it, and admitted then not in favor of any particular country to the disadvantage of others, but on conditions equally applicable to all, it seems just that the articles thus admitted and invited should be carried thither in the vessels of the country affording such supply and that the reciprocity should be found in a corresponding accommodation on the other side. By allowing each party to participate in the transportation of such supplies on the payment of equal tonnage a strong proof was afforded of an accommodating spirit. To abandon to it the transportation of the whole would be a sacrifice which ought not to be expected. The demand in the present instance would be the more unreasonable in consideration of the great inequality existing in the trade with the parent country.\\r\\n\\r\\nSuch was the basis of our system as established by the act of 1815 and such its true character. In the year in which this act was passed a treaty was concluded with Great Britain, in strict conformity with its principles, in regard to her European dominions. to her colonies, however, in the West Indies and on this continent it was not extended, the British Government claiming the exclusive supply of those colonies, and from our own ports, and of the productions of the colonies in return in her own vessels. To this claim the United States could not assent, and in consequence each party suspended the intercourse in the vessels of the other by a prohibition which still exists.\\r\\n\\r\\nThe same conditions were offered to France, but not accepted. Her Government has demanded other conditions more favorable to her navigation, and which should also give extraordinary encouragement to her manufactures and productions in ports of the United States. To these it was thought improper to accede, and in consequence the restrictive regulations which had been adopted on her part, being countervailed on the part of the United States, the direct commerce between the 2 countries in the vessels of each party has been in great measure suspended. It is much to be regretted that, although a negotiation has been long pending, such is the diversity of views entertained on the various points which have been brought into discussion that there does not appear to be any reasonable prospect of its early conclusion.\\r\\n\\r\\nIt is my duty to state, as a cause of very great regret, that very serious differences have occurred in this negotiation respecting the construction of the 8th article of the treaty of 1803, by which Louisiana was ceded to the United States, and likewise respecting the seizure of the Apollo, in 1820, for a violation of our revenue laws. The claim of the Government of France has excited not less surprise than concern, because there does not appear to be a just foundation for it in either instance. By the 8th article of the treaty referred to it is stipulated that after the expiration of 12 years, during which time it was provided by the 7th or preceding article that the vessels of France and Spain should be admitted into the ports of the ceded territory without paying higher duties on merchandise or tonnage on the vessels than such as were paid by citizens of the United States, the ships of France should forever afterwards be placed on the footing of the most favored nation.\\r\\n\\r\\nBy the obvious construction of this article it is presumed that it was intended that no favor should be granted to any power in those ports to which France should not be forthwith entitled, nor should any accommodation be allowed to another power on conditions to which she would not also be entitled on the same conditions. Under this construction no favor or accommodation could be granted to any power to the prejudice of France. By allowing the equivalent allowed by those powers she would always stand in those ports on the footing of the most favored nation.\\r\\n\\r\\nBut if this article should be so construed as that France should enjoy, of right, and without paying the equivalent, all the advantages of such conditions as might be allowed to other powers in return for important concessions made by them, then the whole character of the stipulations would be changed. She would not be placed on the footing of the most favored nation, but on a footing held by no other nation. She would enjoy all advantages allowed to them in consideration of like advantages allowed to us, free from every and any condition whatever.\\r\\n\\r\\nAs little cause has the Government of France to complain of the seizure of the Apollo and the removal of other vessels from the waters of the St. Marys. It will not be denied that every nation has a right to regulate its commercial system as it thinks fit and to enforce the collection of its revenue, provided it be done without an invasion of the rights of other powers. The violation of its revenue laws is an offense which all nations punish, the punishment of which gives no just cause of complaint to the power to which the offenders belong, provided it be extended to all equally.\\r\\n\\r\\nIn this case every circumstance which occurred indicated a fixed purpose to violate our revenue laws. Had the party intended to have pursued a fair trade he would have entered the port of some other power, landed his goods at the custom house according to law, and re-shipped and sent them in the vessel of such power, or of some other power which might lawfully bring them, free from such duties, to a port of the United States. But the conduct of the party in this case was altogether different. He entered the river St. Marys, the boundary line between the United States and Florida, and took his position on the Spanish side, on which in the whole extent of the river there was no town, no port or custom house, and scarcely any settlement. His purpose, therefore, was not to sell his goods to the inhabitants of Florida, but to citizens of the United States, in exchange for their productions, which could not be done without a direct and palpable breach of our laws. It is known that a regular systematic plan had been formed by certain persons for the violation of our revenue system, which made it the more necessary to check the proceeding in its commencement.\\r\\n\\r\\nThat the unsettled bank of a river so remote from the Spanish garrisons and population could give no protection to any party in such a practice is believed to be in strict accord with the law of nations. It would not have comported with a friendly policy in Spain herself to have established a custom house there, since it could have subserved no other purpose than to elude our revenue law. But the Government of Spain did not adopt that measure. On the contrary, it is understood that the Captain-General of Cuba, to whom an application to that effect was made by these adventurers, had not acceded to it.\\r\\n\\r\\nThe condition of those Provinces for many years before they were ceded to the United States need not now be dwelt on. Inhabited by different tribes of Indians and an inroad for every kind of adventurer, the jurisdiction of Spain may be said to have been almost exclusively confined to her garrisons. It certainly could not extend to places where she had no authority. The rules, therefore, applicable to settled countries governed by laws could not be deemed so to the deserts of Florida and to the occurrences there.\\r\\n\\r\\nIt merits attention also that the territory had been ceded to the United States by a treaty the ratification of which had not been refused, and which has since been performed. Under any circumstances, therefore, Spain became less responsible for such acts committed there, and the United States more at liberty to exercise authority to prevent so great a mischief. The conduct of this Government has in every instance been conciliatory and friendly to France. The construction of our revenue law in its application to the cases which have formed the ground of such serious complaint on her part and the order to the collector of St. Marys, in accord with it, were given two years before these cases occurred, and in reference to a breach which was attempted by the subjects of another power. The application, therefore, to the cases in question was inevitable. As soon as the treaty by which these Provinces were ceded to the United States was ratified, and all danger of further breach of our revenue laws ceased, an order was given for the release of the vessel which had been seized and for the dismission of the libel which had been instituted against her.\\r\\n\\r\\nThe principles of this system of reciprocity, founded on the law of [1815-03-03], have been since carried into effect with the Kingdoms of the Netherlands, Sweden, Prussia, and with Hamburg, Lubeck, and Oldenburg, with a provision made by subsequent laws in regard to the Netherlands, Prussia, Hamburg, and Bremen that such produce and manufactures as could only be, or most usually were, 1st shipped from the ports of those countries, the same being imported in vessels wholly belonging to their subjects, should be considered and admitted as their own manufactures and productions.\\r\\n\\r\\nThe Government of Norway has by an ordinance opened the ports of that part of the dominions of the King of Sweden to the vessels of the United States upon the payment of no other or higher duties than are paid by Norwegian vessels, from whatever place arriving and with whatever articles laden. They have requested the reciprocal allowance for the vessels of Norway in the ports of the United States. As this privilege is not within the scope of the act of [1815-03-03], and can only be granted by Congress, and as it may involve the commercial relations of the United States with other nations, the subject is submitted to the wisdom of Congress.\\r\\n\\r\\nI have presented thus fully to your view our commercial relations with other powers, that, seeing them in detail with each power, and knowing the basis on which they rest, Congress may in its wisdom decide whether any change ought to be made, and, if any, in what respect. If this basis is unjust or unreasonable, surely it ought to be abandoned; but if it be just and reasonable, and any change in it will make concessions subversive of equality and tending in its consequences to sap the foundations of our prosperity, then the reasons are equally strong for adhering to the ground already taken, and supporting it by such further regulations as may appear to be proper, should any additional support be found necessary.\\r\\n\\r\\nThe question concerning the construction of the first article of the treaty of Ghent has been, by a joint act of the representatives of the United States and of Great Britain at the Court of St. Petersburg, submitted to the decision of His Imperial Majesty the Emperor of Russia. The result of that submission has not yet been received. The commissioners under the 5th article of that treaty not having been able to agree upon their decision, their reports to the two Governments, according to the provisions of the treaty, may be expected at an early day.\\r\\n\\r\\nWith Spain the treaty of [1819-02-22], has been partly carried into execution. Possession of E and W FL has been given to the United States, but the officers charged with that service by an order from His Catholic Majesty, delivered by his minister to the Sec of State, and transmitted by a special agent to the Captain-General of Cuba, to whom it was directed and in whom the Government of those Provinces was vested, have not only omitted, in contravention of the order of their Sovereign, the performance of the express stipulation to deliver over the archives and documents relating to the property and sovereignty of those Provinces, all of which it was expected would have been delivered either before or when the troops were withdrawn, but defeated since every effort of the United States to obtain them, especially those of the greatest importance. This omission has given rise to several incidents of a painful nature, the character of which will be fully disclosed by the documents which will be hereafter communicated.\\r\\n\\r\\nIn every other circumstance of the law of the 3rd of March last, for carrying into effect that treaty, has been duly attended to. For the execution of that part which preserved in force, for the Government of the inhabitants for the term specified, all the civil, military, and judicial powers exercised by the existing Government of those Provinces an adequate # of officers, as was presumed, were appointed, and ordered to their respective stations. Both Provinces were formed into 1 Territory, and a governor appointed for it; but in consideration of the pre-existing division and of the distance and difficulty of communication between Pensacola, the residence of the governor of West Florida, and St. Augustine, that of the governor of East Florida, at which places the inconsiderable population of each Province was principally collected, two secretaries were appointed, the one to reside at Pensacola and the other at St. Augustine.\\r\\n\\r\\nDue attention was likewise paid to the execution of the laws of the United States relating to the revenue and the slave trade, which were extended to these Provinces. The whole Territory was divided into three collection districts, that part lying between the river St. Marys and Cape Florida forming one, that from the Cape to the Apalachicola another, and that from the Apalachicola to the Perdido the third. To these districts the usual number of revenue officers were appointed; and to secure the due operation of these laws one judge and a district attorney were appointed to reside at Pensacola, and likewise one judge and a district attorney to reside at St. Augustine, with a specified boundary between them; and one marshal for the whole, with authority to appoint a deputy.\\r\\n\\r\\nIn carrying this law into effect, and especially that part relating to the powers of the existing Government of those Provinces, it was thought important, in consideration of the short term for which it was to operate and the radical change which would be made at the approaching session of Congress, to avoid expense, to make no appointment which should not be absolutely necessary to give effect to those powers, to withdraw none of our citizens from their pursuits, whereby to subject the Government to claims which could not be gratified and the parties to losses which it would be painful to witness.\\r\\n\\r\\nIt has been seen with much concern that in the performance of these duties a collision arose between the governor of the Territory and the judge appointed for the western district. It was presumed that the law under which this transitory Government was organized, and the commissions which were granted to the officers who were appointed to execute each branch of the system, and to which the commissions were adapted, would have been understood in the same sense by them in which they were understood by the Executive. Much allowance is due to officers employed in each branch of this system, and the more so as there is good cause to believe that each acted under the conviction that he possessed the power which he undertook to exercise. Of the officer holding the principal station, I think it proper to observe that he accepted it with reluctance, in compliance with the invitation given him, and from a high sense of duty to his country, being willing to contribute to the consummation of an event which would insure complete protection to an important part of our Union, which had suffered much from incursion and invasion, and to the defense of which his very gallant and patriotic services had been so signally and usefully devoted.\\r\\n\\r\\nFrom the intrinsic difficulty of executing laws deriving their origin from different sources, and so essentially different in many important circumstances, the advantage, and indeed the necessity, of establishing as soon as practicable a well-organized Government over that Territory on the principles of our system is apparent. This subject is therefore recommended to the early consideration of Congress.\\r\\n\\r\\nIn compliance with an injunction of the law of the 3rd of March last, three commissioners have also been appointed and a board organized for carrying into effect the 11th article of the treaty above recited, making provision for the payment of such of our citizens as have well-founded claims on Spain of the character specified by that treaty. This board has entered on its duties and made some progress therein. The commissioner and surveyor of His Catholic Majesty, provided for by the 4th article of the treaty, have not yet arrived in the United States, but are soon expected. As soon as they do arrive corresponding appointments will be made and every facility be afforded for the due execution of this service.\\r\\n\\r\\nThe Government of His Most Faithful Majesty since the termination of the last session of Congress has been removed from Rio de Janeiro to Lisbon, where a revolution similar to that which had occurred in the neighboring Kingdom of Spain had in like manner been sanctioned by the accepted and pledged faith of the reigning monarch. The diplomatic intercourse between the United States and the Portuguese dominions, interrupted by this important event, has not yet been resumed, but the change of internal administration having already materially affected the commercial intercourse of the United States with the Portuguese dominions, the renewal of the public missions between the two countries appears to be desirable at an early day.\\r\\n\\r\\nIt is understood that the colonies in South America have had great success during the present year in the struggle for their independence. The new Government of Colombia has extended its territories and considerably augmented its strength, and at Buenos Ayres, where civil dissensions had for some time before prevailed, greater harmony and better order appear to have been established. Equal success has attended their efforts in the Provinces on the Pacific. It has long been manifest that it would be impossible for Spain to reduce these colonies by force, and equally so that no conditions short of their independence would be satisfactory to them. It may therefore be presumed, and it is earnestly hoped, that the Government of Spain, guided by enlightened and liberal councils, will find it to comport with its interests and due to its magnanimity to terminate this exhausting controversy on that basis. To promote this result by friendly counsel with the Government of Spain will be the object of the Government of the United States.\\r\\n\\r\\nIn conducting the fiscal operations of the year it has been found necessary to carry into full effect the act of the last session of Congress authorizing a loan of $5M. This sum has been raised at an average premium of $5.59 per centum upon stock bearing an interest at the rate of 5% per annum, redeemable at the option of the Government after [1835-01-01].\\r\\n\\r\\nThere has been issued under the provisions of this act $4,735,296.30 of 5% stock, and there has been or will be redeemed during the year $3,197,030.71 of Louisiana 6% deferred stock and Mississippi stock. There has therefore been an actual increase of the public debt contracted during the year of $1,538,266.69.\\r\\n\\r\\nThe receipts into the Treasury from the first of January to the 30th of September last have amounted to $16,219,197.70, which, with the balance of $1,198,461.21 in the Treasury on the former day, make the aggregate sum of $17,417,658.91. The payments from the Treasury during the same period have amounted to $15,655,288.47, leaving in the Treasury on the last-mentioned day the sum of $1,762,370.44. It is estimated that the receipts of the 4th quarter of the year will exceed the demands which will be made on the Treasury during the same period, and that the amount in the Treasury on the 30th of September last will be increased on the first day of January next.\\r\\n\\r\\nAt the close of the last session it was anticipated that the progressive diminution of the public revenue in 1819 and 1820, which had been the result of the languid state of our foreign commerce in those years, had in the latter year reached its extreme point of depression. It has, however, been ascertained that that point was reached only at the termination of the first quarter of the present year. From that time until the 30th of September last the duties secured have exceeded those of the corresponding quarters of the last year $1.172M, whilst the amount of debentures issued during the three first quarters of this year is $952,000 less than that of the same quarters of the last year.\\r\\n\\r\\nThere are just grounds to believe that the improvement which has occurred in the revenue during the last-mentioned period will not only be maintained, but that it will progressively increase through the next and several succeeding years, so as to realize the results which were presented upon that subject by the official reports of the Treasury at the commencement of the last session of Congress.\\r\\n\\r\\nUnder the influence of the most unfavorable circumstances the revenue for the next and subsequent years to the year 1825 will exceed the demands at present authorized by law.\\r\\n\\r\\nIt may fairly be presumed that under the protection given to domestic manufactures by the existing laws we shall become at no distant period a manufacturing country on an extensive scale. Possessing as we do the raw materials in such vast amount, with a capacity to augment them to an indefinite extent; raising within the country aliment of every kind to an amount far exceeding the demand for home consumption, even in the most unfavorable years, and to be obtained always at a very moderate price; skilled also, as our people are, in the mechanic arts and in every improvement calculated to lessen the demand for and the price of labor, it is manifest that their success in every branch of domestic industry may and will be carried, under the encouragement given by the present duties, to an extent to meet any demand which under a fair competition may be made upon it.\\r\\n\\r\\nA considerable increase of domestic manufactures, by diminishing the importation of foreign, will probably tend to lessen the amount of the public revenue. As, however, a large proportion of the revenue which is derived from duties is raised from other articles than manufactures, the demand for which will increase with our population, it is believed that a fund will still be raised from that source adequate to the greater part of the public expenditures, especially as those expenditures, should we continue to be blessed with peace, will be diminished by the completion of the fortifications, dock yards, and other public works, by the augmentation of the Navy to the point to which it is proposed to carry it, and by the payment of the public debt, including pensions for military services.\\r\\n\\r\\nIt can not be doubted that the more complete our internal resources and the less dependent we are on foreign powers for every national as well as domestic purpose the greater and more stable will be the public felicity. By the increase of domestic manufactures will the demand for the rude materials at home be increased, and thus will the dependence of the several parts of our Union on each other and the strength of the Union itself be proportionably augmented.\\r\\n\\r\\nIn this process, which is very desirable, and inevitable under the existing duties, the resources which obviously present themselves to supply a deficiency in the revenue, should it occur, are the interests which may derive the principal benefit from the change. If domestic manufactures are raised by duties on foreign, the deficiency in the fund necessary for public purposes should be supplied by duties on the former.\\r\\n\\r\\nAt the last session it seemed doubtful whether the revenue derived from the present sources would be adequate to all the great purposes of our Union, including the construction of our fortifications, the augmentation of the Navy, and the protection of our commerce against the dangers to which it is exposed. had the deficiency been such as to subject us to the necessity either to abandon those measures of defense or to resort to the other means for adequate funds, the course presented to the adoption of a virtuous and enlightened people appeared to be a plain one. It must be gratifying to all to know that this necessity does not exist. Nothing, however, in contemplation of such important objects, which can be easily provided for, should be left to hazard. It is thought that the revenue may receive an augmentation from the existing sources, and in a manner to aid our manufactures, without hastening prematurely the result which has been suggested. It is believed that a moderate additional duty on certain articles would have that effect, without being liable to any serious objection.\\r\\n\\r\\nThe examination of the whole coast, for the construction of permanent fortifications, from St. Croix to the Sabine, with the exception of part of the territory lately acquired, will be completed in the present year, as will be the survey of the Mississippi, under the resolution of the House of Representatives, from the mouth of the Ohio to the ocean, and likewise of the Ohio from Louisville to the Mississippi. A progress corresponding with the sums appropriated has also been made in the construction of these fortifications at the ports designated. As they will form a system of defense for the whole maritime frontier, and in consequence for the interior, and are to last for ages, the greatest care has been taken to fix the position of each work and to form it on such a scale as will be adequate to the purpose intended by it. All the inlets and assailable parts of our Union have been minutely examined, and positions taken with a view to the best effect, observing in every instance a just regard for economy. Doubts, however, being entertained as to the propriety of the position and extent of the work at Dauphine Island, further progress in it was suspended soon after the last session of Congress, and an order given to the Board of Engineers and Naval Commissioners to make a further and more minute examination of it in both respects, and to report the result without delay.\\r\\n\\r\\nDue progress has been made in the construction of vessels of war according to the law providing for the gradual augmentation of the Navy, and to the extent of existing appropriations. The vessels authorized by the act of 1820 have all been completed and are now in actual service. None of the larger ships have been or will be launched for the present, the object being to protect all which may not be required for immediate service from decay by suitable buildings erected over them.\\r\\n\\r\\nA squadron has been maintained, as heretofore, in the Mediterranean, by means whereof peace has been preserved with the Barbary Powers. This squadron has been reduced the present year to as small a force as is compatible with the fulfillment of the object intended by it. From past experience and the best information respecting the views of those powers it is distinctly understood that should our squadron be withdrawn they would soon recommence their hostilities and depredations upon our commerce. Their fortifications have lately been rebuilt and their maritime force increased.\\r\\n\\r\\nIt has also been found necessary to maintain a naval force on the Pacific for the protection of the very important interests of our citizens engaged in commerce and the fisheries in that sea. Vessels have likewise been employed in cruising along the Atlantic coast, in the Gulf of Mexico, on the coast of Africa, and in the neighboring seas. In the latter many piracies have been committed on our commerce, and so extensive was becoming the range of those unprincipled adventurers that there was cause to apprehend, without a timely and decisive effort to suppress them, the worst consequences would ensue. Fortunately, a considerable check has been given to that spirit by our cruisers, who have succeeded in capturing and destroying several of their vessels. Nevertheless, it is considered an object of high importance to continue these cruises until the practice is entirely suppressed.\\r\\n\\r\\nLike success has attended our efforts to suppress the slave trade. Under the flag of the United States and the sanction of their papers the trade may be considered as entire suppressed, and if any of our citizens are engaged in it under the flags and papers of other powers, it is only from a respect of those powers that these offenders are not seized and brought home to receive the punishment which the laws inflict. If every other power should adopt the same policy and pursue the same vigorous means for carrying it into effect, the trade could no longer exist.\\r\\n\\r\\nDeeply impressed with the blessings which we enjoy, and of which we have such manifold proofs, my mind is irresistibly drawn to that Almighty Being, the great source from whence they proceed and to whom our most grateful acknowledgments are due.\\r\\n\\r\\n JAMES MONROE\\r\\n\\r\\n'"
      ]
     },
     "execution_count": 6,
     "metadata": {},
     "output_type": "execute_result"
    }
   ],
   "source": [
    "#df = df.withColumn(\"Sentences\", df.rdd.map(lambda x: re.split('\\. [A-Z]', x['text'])).collect())\n",
    "df.rdd.map(lambda x: x['text']).collect()[0]"
   ]
  },
  {
   "cell_type": "code",
   "execution_count": 17,
   "metadata": {
    "collapsed": false
   },
   "outputs": [],
   "source": [
    "@udf\n",
    "def split_sent(s):\n",
    "    return re.split('\\. [A-Z]', s)\n",
    "\n",
    "@udf\n",
    "def split_word(s):\n",
    "    return re.split(' ', s)\n",
    "\n",
    "def div_(a,b):\n",
    "    return a/b\n",
    "\n",
    "count = udf(lambda s: len(s), IntegerType())\n",
    "int_y = udf(lambda s: int(s), IntegerType())\n",
    "div = udf(div_, FloatType())\n",
    "\n"
   ]
  },
  {
   "cell_type": "code",
   "execution_count": 14,
   "metadata": {
    "collapsed": false
   },
   "outputs": [],
   "source": [
    "df_a = df.withColumn(\"Sentences\", split_sent(df.text))"
   ]
  },
  {
   "cell_type": "code",
   "execution_count": 36,
   "metadata": {
    "collapsed": false
   },
   "outputs": [
    {
     "name": "stdout",
     "output_type": "stream",
     "text": [
      "+--------------------+--------------------+----+--------------------+--------+--------------------+--------+-------------+\n",
      "|           president|                text|Year|           Sentences|Sent_num|               Words|Word_num|num_word_sent|\n",
      "+--------------------+--------------------+----+--------------------+--------+--------------------+--------+-------------+\n",
      "|        James Monroe| Fellow-Citizens ...|1821|[ Fellow-Citizens...|     107|[, Fellow-Citizen...|    5765|    53.878506|\n",
      "|    William McKinley| To the Senate an...|1897|[ To the Senate a...|     279|[, To, the, Senat...|   12019|    43.078854|\n",
      "|Dwight D. Eisenhower|[Delivered in per...|1960|[[Delivered in pe...|     135|[[Delivered, in, ...|    5633|    41.725925|\n",
      "|     Calvin Coolidge|Since the close o...|1923|[Since the close ...|     287|[Since, the, clos...|    6657|    23.195122|\n",
      "|       James Madison| Fellow-Citizens ...|1816|[ Fellow-Citizens...|      45|[, Fellow-Citizen...|    3337|    74.155556|\n",
      "|    Grover Cleveland| To the Congress ...|1886|[ To the Congress...|     210|[, To, the, Congr...|   14927|    71.080956|\n",
      "|   John Quincy Adams| Fellow Citizens ...|1827|[ Fellow Citizens...|      99|[, Fellow, Citize...|    6887|     69.56566|\n",
      "|  Theodore Roosevelt| To the Senate an...|1905|[ To the Senate a...|     685|[, To, the, Senat...|   24925|     36.38686|\n",
      "|   Lyndon B. Johnson|Mr. Speaker, Mr. ...|1965|[Mr, peaker, Mr, ...|      95|[Mr., Speaker,, M...|    4406|     46.37895|\n",
      "|       James K. Polk| Fellow-Citizens ...|1848|[ Fellow-Citizens...|     427|[, Fellow-Citizen...|   21124|    49.470726|\n",
      "|      Woodrow Wilson|Gentlemen of the ...|1913|[Gentlemen of the...|      87|[Gentlemen, of, t...|    3531|     40.58621|\n",
      "|Dwight D. Eisenhower|[Delivered in per...|1955|[[Delivered in pe...|     225|[[Delivered, in, ...|    7233|    32.146667|\n",
      "|         George Bush|Mr. President and...|1991|[Mr, resident and...|     161|[Mr., President, ...|    3968|    24.645964|\n",
      "|     Franklin Pierce| Fellow-Citizens ...|1856|[ Fellow-Citizens...|     172|[, Fellow-Citizen...|   10398|    60.453487|\n",
      "|Franklin D. Roose...|To the Congress:\r",
      "...|1944|[To the Congress:...|      99|[To, the, Congres...|    3693|    37.303032|\n",
      "|   Lyndon B. Johnson|[Delivered in per...|1968|[[Delivered in pe...|     100|[[Delivered, in, ...|    4812|        48.12|\n",
      "|      Andrew Johnson| Fellow-Citizens ...|1867|[ Fellow-Citizens...|     312|[, Fellow-Citizen...|   11930|     38.23718|\n",
      "|      Woodrow Wilson|GENTLEMEN OF THE ...|1914|[GENTLEMEN OF THE...|     132|[GENTLEMEN, OF, T...|    4507|     34.14394|\n",
      "|      Harry S Truman|[As delivered in ...|1950|[[As delivered in...|     154|[[As, delivered, ...|    5133|     33.33117|\n",
      "|      James Buchanan|Fellow-Citizens o...|1860|[Fellow-Citizens ...|     347|[Fellow-Citizens,...|   13913|      40.0951|\n",
      "+--------------------+--------------------+----+--------------------+--------+--------------------+--------+-------------+\n",
      "only showing top 20 rows\n",
      "\n"
     ]
    }
   ],
   "source": [
    "df_b.show()"
   ]
  },
  {
   "cell_type": "markdown",
   "metadata": {},
   "source": [
    "# (b)number of sentences, mean sentence lengths"
   ]
  },
  {
   "cell_type": "code",
   "execution_count": 22,
   "metadata": {
    "collapsed": false
   },
   "outputs": [],
   "source": [
    "df_b = df_a.withColumn(\"Sent_num\", count(df_a.Sentences))\n",
    "df_b = df_b.withColumn(\"Words\", split_word(df_b.text))\n",
    "df_b = df_b.withColumn(\"Word_num\", count(df_b.Words))\n",
    "df_b = df_b.withColumn(\"num_word_sent\", div(df_b.Word_num, df_b.Sent_num))\n",
    "df_b = df_b.withColumn(\"Year\", int_y(df_b.year))\n",
    "DF_b = df_b.groupBy('Year').mean('Sent_num', \"num_word_sent\").sort(\"Year\").toPandas()"
   ]
  },
  {
   "cell_type": "code",
   "execution_count": 23,
   "metadata": {
    "collapsed": false
   },
   "outputs": [
    {
     "name": "stdout",
     "output_type": "stream",
     "text": [
      "+----+-------------+------------------+\n",
      "|Year|avg(Sent_num)|avg(num_word_sent)|\n",
      "+----+-------------+------------------+\n",
      "|1790|         26.0| 53.57692337036133|\n",
      "|1791|         24.0| 95.16666412353516|\n",
      "|1792|         32.0|           64.8125|\n",
      "|1793|         35.0| 55.71428680419922|\n",
      "|1794|         52.0|55.653846740722656|\n",
      "|1795|         30.0| 65.66666412353516|\n",
      "|1796|         45.0| 63.13333511352539|\n",
      "|1797|         39.0| 52.66666793823242|\n",
      "|1798|         35.0| 62.85714340209961|\n",
      "|1799|         25.0|              60.0|\n",
      "+----+-------------+------------------+\n",
      "only showing top 10 rows\n",
      "\n"
     ]
    }
   ],
   "source": [
    "#DF_b.show(10)"
   ]
  },
  {
   "cell_type": "code",
   "execution_count": 30,
   "metadata": {
    "collapsed": false
   },
   "outputs": [],
   "source": [
    "#DF_b = DF_b.toPandas()"
   ]
  },
  {
   "cell_type": "code",
   "execution_count": 34,
   "metadata": {
    "collapsed": false
   },
   "outputs": [
    {
     "data": {
      "text/plain": [
       "<matplotlib.text.Text at 0x7f27b4662ed0>"
      ]
     },
     "execution_count": 34,
     "metadata": {},
     "output_type": "execute_result"
    },
    {
     "data": {
      "image/png": "[encoded data removed]",
      "text/plain": [
       "<matplotlib.figure.Figure at 0x7f27b460f850>"
      ]
     },
     "metadata": {},
     "output_type": "display_data"
    }
   ],
   "source": [
    "plt.scatter(DF_b['Year'], DF_b['avg(Sent_num)'])\n",
    "plt.title(\"Number of sentences by year\")\n",
    "plt.xlabel(\"Year\")\n",
    "plt.ylabel(\"Average number of sentences\")"
   ]
  },
  {
   "cell_type": "code",
   "execution_count": 35,
   "metadata": {
    "collapsed": false
   },
   "outputs": [
    {
     "data": {
      "text/plain": [
       "<matplotlib.text.Text at 0x7f27b4597510>"
      ]
     },
     "execution_count": 35,
     "metadata": {},
     "output_type": "execute_result"
    },
    {
     "data": {
      "image/png": "[encoded data removed]",
      "text/plain": [
       "<matplotlib.figure.Figure at 0x7f27b45af550>"
      ]
     },
     "metadata": {},
     "output_type": "display_data"
    }
   ],
   "source": [
    "plt.scatter(DF_b['Year'], DF_b['avg(num_word_sent)'])\n",
    "plt.title(\"Average sentence length by year\")\n",
    "plt.xlabel(\"Year\")\n",
    "plt.ylabel(\"Average sentence length\")"
   ]
  },
  {
   "cell_type": "markdown",
   "metadata": {},
   "source": [
    "# (c)\n",
    "Now, compute two regressions of the total number of words in a SOU versus year–one for the years 1790 to 1912, another for the years 1913 to the present. What trends do you see? Lookup the history of the State of the Union addresses (for example on Wikipedia) to explain the regressions."
   ]
  },
  {
   "cell_type": "code",
   "execution_count": 45,
   "metadata": {
    "collapsed": false
   },
   "outputs": [],
   "source": [
    "#Regression form year 1790 to 1912\n",
    "#DF_b.iloc[:(1912-1790+1),:]\n",
    "DF_C1 = df_b.groupBy('Year').mean('Word_num').sort(\"Year\").toPandas().iloc[:(1912-1790+1),:]"
   ]
  },
  {
   "cell_type": "code",
   "execution_count": 46,
   "metadata": {
    "collapsed": false
   },
   "outputs": [
    {
     "data": {
      "text/html": [
       "<div>\n",
       "<table border=\"1\" class=\"dataframe\">\n",
       "  <thead>\n",
       "    <tr style=\"text-align: right;\">\n",
       "      <th></th>\n",
       "      <th>Year</th>\n",
       "      <th>avg(Word_num)</th>\n",
       "    </tr>\n",
       "  </thead>\n",
       "  <tbody>\n",
       "    <tr>\n",
       "      <th>123</th>\n",
       "      <td>1913</td>\n",
       "      <td>3531.0</td>\n",
       "    </tr>\n",
       "    <tr>\n",
       "      <th>124</th>\n",
       "      <td>1914</td>\n",
       "      <td>4507.0</td>\n",
       "    </tr>\n",
       "    <tr>\n",
       "      <th>125</th>\n",
       "      <td>1915</td>\n",
       "      <td>7645.0</td>\n",
       "    </tr>\n",
       "    <tr>\n",
       "      <th>126</th>\n",
       "      <td>1916</td>\n",
       "      <td>2086.0</td>\n",
       "    </tr>\n",
       "    <tr>\n",
       "      <th>127</th>\n",
       "      <td>1917</td>\n",
       "      <td>3882.0</td>\n",
       "    </tr>\n",
       "    <tr>\n",
       "      <th>128</th>\n",
       "      <td>1918</td>\n",
       "      <td>5432.0</td>\n",
       "    </tr>\n",
       "    <tr>\n",
       "      <th>129</th>\n",
       "      <td>1919</td>\n",
       "      <td>4725.0</td>\n",
       "    </tr>\n",
       "    <tr>\n",
       "      <th>130</th>\n",
       "      <td>1920</td>\n",
       "      <td>2687.0</td>\n",
       "    </tr>\n",
       "    <tr>\n",
       "      <th>131</th>\n",
       "      <td>1921</td>\n",
       "      <td>5548.0</td>\n",
       "    </tr>\n",
       "    <tr>\n",
       "      <th>132</th>\n",
       "      <td>1922</td>\n",
       "      <td>5676.0</td>\n",
       "    </tr>\n",
       "    <tr>\n",
       "      <th>133</th>\n",
       "      <td>1923</td>\n",
       "      <td>6657.0</td>\n",
       "    </tr>\n",
       "    <tr>\n",
       "      <th>134</th>\n",
       "      <td>1924</td>\n",
       "      <td>6938.0</td>\n",
       "    </tr>\n",
       "    <tr>\n",
       "      <th>135</th>\n",
       "      <td>1925</td>\n",
       "      <td>10782.0</td>\n",
       "    </tr>\n",
       "    <tr>\n",
       "      <th>136</th>\n",
       "      <td>1926</td>\n",
       "      <td>10255.0</td>\n",
       "    </tr>\n",
       "    <tr>\n",
       "      <th>137</th>\n",
       "      <td>1927</td>\n",
       "      <td>8736.0</td>\n",
       "    </tr>\n",
       "    <tr>\n",
       "      <th>138</th>\n",
       "      <td>1928</td>\n",
       "      <td>8020.0</td>\n",
       "    </tr>\n",
       "    <tr>\n",
       "      <th>139</th>\n",
       "      <td>1929</td>\n",
       "      <td>10846.0</td>\n",
       "    </tr>\n",
       "    <tr>\n",
       "      <th>140</th>\n",
       "      <td>1930</td>\n",
       "      <td>4468.0</td>\n",
       "    </tr>\n",
       "    <tr>\n",
       "      <th>141</th>\n",
       "      <td>1931</td>\n",
       "      <td>5591.0</td>\n",
       "    </tr>\n",
       "    <tr>\n",
       "      <th>142</th>\n",
       "      <td>1932</td>\n",
       "      <td>4144.0</td>\n",
       "    </tr>\n",
       "    <tr>\n",
       "      <th>143</th>\n",
       "      <td>1934</td>\n",
       "      <td>2191.0</td>\n",
       "    </tr>\n",
       "    <tr>\n",
       "      <th>144</th>\n",
       "      <td>1935</td>\n",
       "      <td>3466.0</td>\n",
       "    </tr>\n",
       "    <tr>\n",
       "      <th>145</th>\n",
       "      <td>1936</td>\n",
       "      <td>3761.0</td>\n",
       "    </tr>\n",
       "    <tr>\n",
       "      <th>146</th>\n",
       "      <td>1937</td>\n",
       "      <td>2687.0</td>\n",
       "    </tr>\n",
       "    <tr>\n",
       "      <th>147</th>\n",
       "      <td>1938</td>\n",
       "      <td>4604.0</td>\n",
       "    </tr>\n",
       "    <tr>\n",
       "      <th>148</th>\n",
       "      <td>1939</td>\n",
       "      <td>3650.0</td>\n",
       "    </tr>\n",
       "    <tr>\n",
       "      <th>149</th>\n",
       "      <td>1940</td>\n",
       "      <td>3105.0</td>\n",
       "    </tr>\n",
       "    <tr>\n",
       "      <th>150</th>\n",
       "      <td>1941</td>\n",
       "      <td>3212.0</td>\n",
       "    </tr>\n",
       "    <tr>\n",
       "      <th>151</th>\n",
       "      <td>1942</td>\n",
       "      <td>3414.0</td>\n",
       "    </tr>\n",
       "    <tr>\n",
       "      <th>152</th>\n",
       "      <td>1943</td>\n",
       "      <td>4465.0</td>\n",
       "    </tr>\n",
       "    <tr>\n",
       "      <th>...</th>\n",
       "      <td>...</td>\n",
       "      <td>...</td>\n",
       "    </tr>\n",
       "    <tr>\n",
       "      <th>193</th>\n",
       "      <td>1984</td>\n",
       "      <td>4944.0</td>\n",
       "    </tr>\n",
       "    <tr>\n",
       "      <th>194</th>\n",
       "      <td>1985</td>\n",
       "      <td>4212.0</td>\n",
       "    </tr>\n",
       "    <tr>\n",
       "      <th>195</th>\n",
       "      <td>1986</td>\n",
       "      <td>3472.0</td>\n",
       "    </tr>\n",
       "    <tr>\n",
       "      <th>196</th>\n",
       "      <td>1987</td>\n",
       "      <td>3770.0</td>\n",
       "    </tr>\n",
       "    <tr>\n",
       "      <th>197</th>\n",
       "      <td>1988</td>\n",
       "      <td>4825.0</td>\n",
       "    </tr>\n",
       "    <tr>\n",
       "      <th>198</th>\n",
       "      <td>1989</td>\n",
       "      <td>4821.0</td>\n",
       "    </tr>\n",
       "    <tr>\n",
       "      <th>199</th>\n",
       "      <td>1990</td>\n",
       "      <td>3811.0</td>\n",
       "    </tr>\n",
       "    <tr>\n",
       "      <th>200</th>\n",
       "      <td>1991</td>\n",
       "      <td>3968.0</td>\n",
       "    </tr>\n",
       "    <tr>\n",
       "      <th>201</th>\n",
       "      <td>1992</td>\n",
       "      <td>5082.0</td>\n",
       "    </tr>\n",
       "    <tr>\n",
       "      <th>202</th>\n",
       "      <td>1993</td>\n",
       "      <td>6997.0</td>\n",
       "    </tr>\n",
       "    <tr>\n",
       "      <th>203</th>\n",
       "      <td>1994</td>\n",
       "      <td>7378.0</td>\n",
       "    </tr>\n",
       "    <tr>\n",
       "      <th>204</th>\n",
       "      <td>1995</td>\n",
       "      <td>9173.0</td>\n",
       "    </tr>\n",
       "    <tr>\n",
       "      <th>205</th>\n",
       "      <td>1996</td>\n",
       "      <td>6328.0</td>\n",
       "    </tr>\n",
       "    <tr>\n",
       "      <th>206</th>\n",
       "      <td>1997</td>\n",
       "      <td>6749.0</td>\n",
       "    </tr>\n",
       "    <tr>\n",
       "      <th>207</th>\n",
       "      <td>1998</td>\n",
       "      <td>7277.0</td>\n",
       "    </tr>\n",
       "    <tr>\n",
       "      <th>208</th>\n",
       "      <td>1999</td>\n",
       "      <td>7475.0</td>\n",
       "    </tr>\n",
       "    <tr>\n",
       "      <th>209</th>\n",
       "      <td>2000</td>\n",
       "      <td>9052.0</td>\n",
       "    </tr>\n",
       "    <tr>\n",
       "      <th>210</th>\n",
       "      <td>2001</td>\n",
       "      <td>4362.0</td>\n",
       "    </tr>\n",
       "    <tr>\n",
       "      <th>211</th>\n",
       "      <td>2002</td>\n",
       "      <td>3825.0</td>\n",
       "    </tr>\n",
       "    <tr>\n",
       "      <th>212</th>\n",
       "      <td>2003</td>\n",
       "      <td>5368.0</td>\n",
       "    </tr>\n",
       "    <tr>\n",
       "      <th>213</th>\n",
       "      <td>2004</td>\n",
       "      <td>5167.0</td>\n",
       "    </tr>\n",
       "    <tr>\n",
       "      <th>214</th>\n",
       "      <td>2005</td>\n",
       "      <td>5045.0</td>\n",
       "    </tr>\n",
       "    <tr>\n",
       "      <th>215</th>\n",
       "      <td>2006</td>\n",
       "      <td>5287.0</td>\n",
       "    </tr>\n",
       "    <tr>\n",
       "      <th>216</th>\n",
       "      <td>2007</td>\n",
       "      <td>5552.0</td>\n",
       "    </tr>\n",
       "    <tr>\n",
       "      <th>217</th>\n",
       "      <td>2008</td>\n",
       "      <td>5702.0</td>\n",
       "    </tr>\n",
       "    <tr>\n",
       "      <th>218</th>\n",
       "      <td>2009</td>\n",
       "      <td>6053.0</td>\n",
       "    </tr>\n",
       "    <tr>\n",
       "      <th>219</th>\n",
       "      <td>2010</td>\n",
       "      <td>7225.0</td>\n",
       "    </tr>\n",
       "    <tr>\n",
       "      <th>220</th>\n",
       "      <td>2011</td>\n",
       "      <td>6874.0</td>\n",
       "    </tr>\n",
       "    <tr>\n",
       "      <th>221</th>\n",
       "      <td>2012</td>\n",
       "      <td>7026.0</td>\n",
       "    </tr>\n",
       "    <tr>\n",
       "      <th>222</th>\n",
       "      <td>2013</td>\n",
       "      <td>6860.0</td>\n",
       "    </tr>\n",
       "  </tbody>\n",
       "</table>\n",
       "<p>100 rows × 2 columns</p>\n",
       "</div>"
      ],
      "text/plain": [
       "     Year  avg(Word_num)\n",
       "123  1913         3531.0\n",
       "124  1914         4507.0\n",
       "125  1915         7645.0\n",
       "126  1916         2086.0\n",
       "127  1917         3882.0\n",
       "128  1918         5432.0\n",
       "129  1919         4725.0\n",
       "130  1920         2687.0\n",
       "131  1921         5548.0\n",
       "132  1922         5676.0\n",
       "133  1923         6657.0\n",
       "134  1924         6938.0\n",
       "135  1925        10782.0\n",
       "136  1926        10255.0\n",
       "137  1927         8736.0\n",
       "138  1928         8020.0\n",
       "139  1929        10846.0\n",
       "140  1930         4468.0\n",
       "141  1931         5591.0\n",
       "142  1932         4144.0\n",
       "143  1934         2191.0\n",
       "144  1935         3466.0\n",
       "145  1936         3761.0\n",
       "146  1937         2687.0\n",
       "147  1938         4604.0\n",
       "148  1939         3650.0\n",
       "149  1940         3105.0\n",
       "150  1941         3212.0\n",
       "151  1942         3414.0\n",
       "152  1943         4465.0\n",
       "..    ...            ...\n",
       "193  1984         4944.0\n",
       "194  1985         4212.0\n",
       "195  1986         3472.0\n",
       "196  1987         3770.0\n",
       "197  1988         4825.0\n",
       "198  1989         4821.0\n",
       "199  1990         3811.0\n",
       "200  1991         3968.0\n",
       "201  1992         5082.0\n",
       "202  1993         6997.0\n",
       "203  1994         7378.0\n",
       "204  1995         9173.0\n",
       "205  1996         6328.0\n",
       "206  1997         6749.0\n",
       "207  1998         7277.0\n",
       "208  1999         7475.0\n",
       "209  2000         9052.0\n",
       "210  2001         4362.0\n",
       "211  2002         3825.0\n",
       "212  2003         5368.0\n",
       "213  2004         5167.0\n",
       "214  2005         5045.0\n",
       "215  2006         5287.0\n",
       "216  2007         5552.0\n",
       "217  2008         5702.0\n",
       "218  2009         6053.0\n",
       "219  2010         7225.0\n",
       "220  2011         6874.0\n",
       "221  2012         7026.0\n",
       "222  2013         6860.0\n",
       "\n",
       "[100 rows x 2 columns]"
      ]
     },
     "execution_count": 46,
     "metadata": {},
     "output_type": "execute_result"
    }
   ],
   "source": [
    "#Regression form year 1913 to present\n",
    "DF_C2 = df_b.groupBy('Year').mean('Word_num').sort(\"Year\").toPandas().iloc[(1912-1790+1):,:]\n",
    "DF_C2"
   ]
  },
  {
   "cell_type": "markdown",
   "metadata": {
    "collapsed": true
   },
   "source": [
    "# (d)\n",
    "Which President has the longest sentences on average? Which has the shortest sen- tences? Compute the median, 25% and 75% quantiles across all Presidents. What was the longest and shortest sentence ever spoken (or written) in a SOU?"
   ]
  },
  {
   "cell_type": "code",
   "execution_count": 41,
   "metadata": {
    "collapsed": false
   },
   "outputs": [
    {
     "name": "stderr",
     "output_type": "stream",
     "text": [
      "/software/python-2.7.12-el7-x86_64/lib/python2.7/site-packages/ipykernel/__main__.py:2: FutureWarning: sort(columns=....) is deprecated, use sort_values(by=.....)\n",
      "  from ipykernel import kernelapp as app\n"
     ]
    },
    {
     "data": {
      "text/html": [
       "<div>\n",
       "<table border=\"1\" class=\"dataframe\">\n",
       "  <thead>\n",
       "    <tr style=\"text-align: right;\">\n",
       "      <th></th>\n",
       "      <th>president</th>\n",
       "      <th>avg(num_word_sent)</th>\n",
       "    </tr>\n",
       "  </thead>\n",
       "  <tbody>\n",
       "    <tr>\n",
       "      <th>26</th>\n",
       "      <td>George Bush</td>\n",
       "      <td>23.621506</td>\n",
       "    </tr>\n",
       "    <tr>\n",
       "      <th>21</th>\n",
       "      <td>Barack Obama</td>\n",
       "      <td>24.241269</td>\n",
       "    </tr>\n",
       "    <tr>\n",
       "      <th>20</th>\n",
       "      <td>George W. Bush</td>\n",
       "      <td>25.028932</td>\n",
       "    </tr>\n",
       "    <tr>\n",
       "      <th>8</th>\n",
       "      <td>William J. Clinton</td>\n",
       "      <td>26.547616</td>\n",
       "    </tr>\n",
       "    <tr>\n",
       "      <th>3</th>\n",
       "      <td>Calvin Coolidge</td>\n",
       "      <td>26.661311</td>\n",
       "    </tr>\n",
       "    <tr>\n",
       "      <th>31</th>\n",
       "      <td>Ronald Reagan</td>\n",
       "      <td>27.252922</td>\n",
       "    </tr>\n",
       "    <tr>\n",
       "      <th>6</th>\n",
       "      <td>Gerald R. Ford</td>\n",
       "      <td>31.678205</td>\n",
       "    </tr>\n",
       "    <tr>\n",
       "      <th>30</th>\n",
       "      <td>Harry S Truman</td>\n",
       "      <td>33.198677</td>\n",
       "    </tr>\n",
       "    <tr>\n",
       "      <th>13</th>\n",
       "      <td>Jimmy Carter</td>\n",
       "      <td>35.158751</td>\n",
       "    </tr>\n",
       "    <tr>\n",
       "      <th>35</th>\n",
       "      <td>Herbert Hoover</td>\n",
       "      <td>36.179354</td>\n",
       "    </tr>\n",
       "    <tr>\n",
       "      <th>15</th>\n",
       "      <td>Dwight D. Eisenhower</td>\n",
       "      <td>36.614552</td>\n",
       "    </tr>\n",
       "    <tr>\n",
       "      <th>17</th>\n",
       "      <td>John F. Kennedy</td>\n",
       "      <td>36.724734</td>\n",
       "    </tr>\n",
       "    <tr>\n",
       "      <th>24</th>\n",
       "      <td>Warren G. Harding</td>\n",
       "      <td>36.935553</td>\n",
       "    </tr>\n",
       "    <tr>\n",
       "      <th>10</th>\n",
       "      <td>Theodore Roosevelt</td>\n",
       "      <td>38.199738</td>\n",
       "    </tr>\n",
       "    <tr>\n",
       "      <th>25</th>\n",
       "      <td>James Buchanan</td>\n",
       "      <td>42.176635</td>\n",
       "    </tr>\n",
       "    <tr>\n",
       "      <th>1</th>\n",
       "      <td>Andrew Johnson</td>\n",
       "      <td>42.790099</td>\n",
       "    </tr>\n",
       "    <tr>\n",
       "      <th>18</th>\n",
       "      <td>Benjamin Harrison</td>\n",
       "      <td>43.652375</td>\n",
       "    </tr>\n",
       "    <tr>\n",
       "      <th>0</th>\n",
       "      <td>Franklin D. Roosevelt</td>\n",
       "      <td>43.669432</td>\n",
       "    </tr>\n",
       "    <tr>\n",
       "      <th>23</th>\n",
       "      <td>Abraham Lincoln</td>\n",
       "      <td>43.818398</td>\n",
       "    </tr>\n",
       "    <tr>\n",
       "      <th>9</th>\n",
       "      <td>William McKinley</td>\n",
       "      <td>46.768721</td>\n",
       "    </tr>\n",
       "    <tr>\n",
       "      <th>33</th>\n",
       "      <td>Lyndon B. Johnson</td>\n",
       "      <td>47.617916</td>\n",
       "    </tr>\n",
       "    <tr>\n",
       "      <th>16</th>\n",
       "      <td>Woodrow Wilson</td>\n",
       "      <td>47.993040</td>\n",
       "    </tr>\n",
       "    <tr>\n",
       "      <th>32</th>\n",
       "      <td>John Tyler</td>\n",
       "      <td>48.580421</td>\n",
       "    </tr>\n",
       "    <tr>\n",
       "      <th>5</th>\n",
       "      <td>James K. Polk</td>\n",
       "      <td>49.286606</td>\n",
       "    </tr>\n",
       "    <tr>\n",
       "      <th>19</th>\n",
       "      <td>Millard Fillmore</td>\n",
       "      <td>49.851796</td>\n",
       "    </tr>\n",
       "    <tr>\n",
       "      <th>12</th>\n",
       "      <td>Ulysses S. Grant</td>\n",
       "      <td>49.859124</td>\n",
       "    </tr>\n",
       "    <tr>\n",
       "      <th>37</th>\n",
       "      <td>Zachary Taylor</td>\n",
       "      <td>50.400002</td>\n",
       "    </tr>\n",
       "    <tr>\n",
       "      <th>40</th>\n",
       "      <td>Rutherford B. Hayes</td>\n",
       "      <td>50.670328</td>\n",
       "    </tr>\n",
       "    <tr>\n",
       "      <th>36</th>\n",
       "      <td>William Howard Taft</td>\n",
       "      <td>54.172079</td>\n",
       "    </tr>\n",
       "    <tr>\n",
       "      <th>39</th>\n",
       "      <td>James Monroe</td>\n",
       "      <td>56.712824</td>\n",
       "    </tr>\n",
       "    <tr>\n",
       "      <th>34</th>\n",
       "      <td>Richard M. Nixon</td>\n",
       "      <td>58.473163</td>\n",
       "    </tr>\n",
       "    <tr>\n",
       "      <th>28</th>\n",
       "      <td>Martin Van Buren</td>\n",
       "      <td>58.543115</td>\n",
       "    </tr>\n",
       "    <tr>\n",
       "      <th>11</th>\n",
       "      <td>John Adams</td>\n",
       "      <td>59.278680</td>\n",
       "    </tr>\n",
       "    <tr>\n",
       "      <th>29</th>\n",
       "      <td>Thomas Jefferson</td>\n",
       "      <td>60.152146</td>\n",
       "    </tr>\n",
       "    <tr>\n",
       "      <th>38</th>\n",
       "      <td>Franklin Pierce</td>\n",
       "      <td>60.199272</td>\n",
       "    </tr>\n",
       "    <tr>\n",
       "      <th>4</th>\n",
       "      <td>Andrew Jackson</td>\n",
       "      <td>61.843492</td>\n",
       "    </tr>\n",
       "    <tr>\n",
       "      <th>27</th>\n",
       "      <td>John Quincy Adams</td>\n",
       "      <td>62.560785</td>\n",
       "    </tr>\n",
       "    <tr>\n",
       "      <th>22</th>\n",
       "      <td>Chester A. Arthur</td>\n",
       "      <td>62.670041</td>\n",
       "    </tr>\n",
       "    <tr>\n",
       "      <th>2</th>\n",
       "      <td>George Washington</td>\n",
       "      <td>64.817746</td>\n",
       "    </tr>\n",
       "    <tr>\n",
       "      <th>7</th>\n",
       "      <td>Grover Cleveland</td>\n",
       "      <td>65.202508</td>\n",
       "    </tr>\n",
       "    <tr>\n",
       "      <th>14</th>\n",
       "      <td>James Madison</td>\n",
       "      <td>80.731727</td>\n",
       "    </tr>\n",
       "  </tbody>\n",
       "</table>\n",
       "</div>"
      ],
      "text/plain": [
       "                president  avg(num_word_sent)\n",
       "26            George Bush           23.621506\n",
       "21           Barack Obama           24.241269\n",
       "20         George W. Bush           25.028932\n",
       "8      William J. Clinton           26.547616\n",
       "3         Calvin Coolidge           26.661311\n",
       "31          Ronald Reagan           27.252922\n",
       "6          Gerald R. Ford           31.678205\n",
       "30         Harry S Truman           33.198677\n",
       "13           Jimmy Carter           35.158751\n",
       "35         Herbert Hoover           36.179354\n",
       "15   Dwight D. Eisenhower           36.614552\n",
       "17        John F. Kennedy           36.724734\n",
       "24      Warren G. Harding           36.935553\n",
       "10     Theodore Roosevelt           38.199738\n",
       "25         James Buchanan           42.176635\n",
       "1          Andrew Johnson           42.790099\n",
       "18      Benjamin Harrison           43.652375\n",
       "0   Franklin D. Roosevelt           43.669432\n",
       "23        Abraham Lincoln           43.818398\n",
       "9        William McKinley           46.768721\n",
       "33      Lyndon B. Johnson           47.617916\n",
       "16         Woodrow Wilson           47.993040\n",
       "32             John Tyler           48.580421\n",
       "5           James K. Polk           49.286606\n",
       "19       Millard Fillmore           49.851796\n",
       "12       Ulysses S. Grant           49.859124\n",
       "37         Zachary Taylor           50.400002\n",
       "40    Rutherford B. Hayes           50.670328\n",
       "36    William Howard Taft           54.172079\n",
       "39           James Monroe           56.712824\n",
       "34       Richard M. Nixon           58.473163\n",
       "28       Martin Van Buren           58.543115\n",
       "11             John Adams           59.278680\n",
       "29       Thomas Jefferson           60.152146\n",
       "38        Franklin Pierce           60.199272\n",
       "4          Andrew Jackson           61.843492\n",
       "27      John Quincy Adams           62.560785\n",
       "22      Chester A. Arthur           62.670041\n",
       "2       George Washington           64.817746\n",
       "7        Grover Cleveland           65.202508\n",
       "14          James Madison           80.731727"
      ]
     },
     "execution_count": 41,
     "metadata": {},
     "output_type": "execute_result"
    }
   ],
   "source": [
    "DF_D = df_b.groupBy('president').mean(\"num_word_sent\").toPandas()\n",
    "DF_D.sort('avg(num_word_sent)', inplace = True)\n",
    "DF_D"
   ]
  },
  {
   "cell_type": "code",
   "execution_count": 42,
   "metadata": {
    "collapsed": false
   },
   "outputs": [
    {
     "data": {
      "text/plain": [
       "count    41.000000\n",
       "mean     46.354527\n",
       "std      13.559082\n",
       "min      23.621506\n",
       "25%      36.614552\n",
       "50%      47.617916\n",
       "75%      58.473163\n",
       "max      80.731727\n",
       "Name: avg(num_word_sent), dtype: float64"
      ]
     },
     "execution_count": 42,
     "metadata": {},
     "output_type": "execute_result"
    }
   ],
   "source": [
    "DF_D['avg(num_word_sent)'].describe()"
   ]
  },
  {
   "cell_type": "markdown",
   "metadata": {},
   "source": [
    "According to the dataframe and the summary, James Madison has longest sentences and George Bush has shortest sentences. The 25% quantile of sentence length is 36.6; median of sentence length is 47.61; 75% quantile of sentence length is 58.4."
   ]
  },
  {
   "cell_type": "code",
   "execution_count": null,
   "metadata": {
    "collapsed": true
   },
   "outputs": [],
   "source": []
  },
  {
   "cell_type": "code",
   "execution_count": null,
   "metadata": {
    "collapsed": true
   },
   "outputs": [],
   "source": []
  }
 ],
 "metadata": {
  "kernelspec": {
   "display_name": "Python 2",
   "language": "python",
   "name": "python2"
  },
  "language_info": {
   "codemirror_mode": {
    "name": "ipython",
    "version": 2
   },
   "file_extension": ".py",
   "mimetype": "text/x-python",
   "name": "python",
   "nbconvert_exporter": "python",
   "pygments_lexer": "ipython2",
   "version": "2.7.12"
  }
 },
 "nbformat": 4,
 "nbformat_minor": 2
}
