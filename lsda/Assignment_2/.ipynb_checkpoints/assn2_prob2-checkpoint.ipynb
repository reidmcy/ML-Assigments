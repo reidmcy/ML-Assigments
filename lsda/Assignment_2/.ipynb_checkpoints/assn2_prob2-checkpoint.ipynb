{
 "cells": [
  {
   "cell_type": "code",
   "execution_count": 121,
   "metadata": {
    "collapsed": true
   },
   "outputs": [],
   "source": [
    "import os\n",
    "import re\n",
    "import matplotlib.pyplot as plt\n",
    "import numpy as np\n",
    "import string\n",
    "\n",
    "from pyspark.sql import SparkSession\n",
    "from pyspark.sql.functions import udf\n",
    "from pyspark.sql.types import IntegerType, FloatType\n",
    "from __future__ import print_function, unicode_literals, with_statement, absolute_import, generators, nested_scopes, division\n",
    "from operator import add\n",
    "\n",
    "\n",
    "%matplotlib inline "
   ]
  },
  {
   "cell_type": "code",
   "execution_count": 3,
   "metadata": {
    "collapsed": true
   },
   "outputs": [],
   "source": [
    "# Local Spark\n",
    "# spark session is now the entry point of spark program\n",
    "# for line 8, can use local[n] for run spark locally with n cores\n",
    "spark = SparkSession.builder \\\n",
    "    .master('local') \\\n",
    "    .appName('Spark Try') \\\n",
    "    .getOrCreate()"
   ]
  },
  {
   "cell_type": "code",
   "execution_count": 4,
   "metadata": {
    "collapsed": false
   },
   "outputs": [
    {
     "name": "stdout",
     "output_type": "stream",
     "text": [
      "+--------------------+--------------------+----+\n",
      "|           president|                text|year|\n",
      "+--------------------+--------------------+----+\n",
      "|        James Monroe| Fellow-Citizens ...|1821|\n",
      "|    William McKinley| To the Senate an...|1897|\n",
      "|Dwight D. Eisenhower|[Delivered in per...|1960|\n",
      "|     Calvin Coolidge|Since the close o...|1923|\n",
      "|       James Madison| Fellow-Citizens ...|1816|\n",
      "|    Grover Cleveland| To the Congress ...|1886|\n",
      "|   John Quincy Adams| Fellow Citizens ...|1827|\n",
      "|  Theodore Roosevelt| To the Senate an...|1905|\n",
      "|   Lyndon B. Johnson|Mr. Speaker, Mr. ...|1965|\n",
      "|       James K. Polk| Fellow-Citizens ...|1848|\n",
      "|      Woodrow Wilson|Gentlemen of the ...|1913|\n",
      "|Dwight D. Eisenhower|[Delivered in per...|1955|\n",
      "|         George Bush|Mr. President and...|1991|\n",
      "|     Franklin Pierce| Fellow-Citizens ...|1856|\n",
      "|Franklin D. Roose...|To the Congress:\r",
      "...|1944|\n",
      "|   Lyndon B. Johnson|[Delivered in per...|1968|\n",
      "|      Andrew Johnson| Fellow-Citizens ...|1867|\n",
      "|      Woodrow Wilson|GENTLEMEN OF THE ...|1914|\n",
      "|      Harry S Truman|[As delivered in ...|1950|\n",
      "|      James Buchanan|Fellow-Citizens o...|1860|\n",
      "+--------------------+--------------------+----+\n",
      "only showing top 20 rows\n",
      "\n"
     ]
    }
   ],
   "source": [
    "df = spark.read.json('/project/cmsc25025/sou/speeches.json')\n",
    "df.show()"
   ]
  },
  {
   "cell_type": "markdown",
   "metadata": {},
   "source": [
    "# Part a\n",
    "Compute the TF-IDF vectors for each SOU address. You should lower case all of the text, and remove punctuation.\n",
    "\n",
    "For example, you could use something like this:\n",
    "       s = s.lower().translate(string.maketrans(\"\",\"\"), string.punctuation)\n",
    "You will have to make choices about the size of the term vocabulary to use—for example throwing out the 20 most common words, and words that appear fewer than, say, 50 times."
   ]
  },
  {
   "cell_type": "code",
   "execution_count": 162,
   "metadata": {
    "collapsed": false
   },
   "outputs": [],
   "source": [
    "def trans(t):\n",
    "    return t.lower().encode('utf-8').translate(string.maketrans(\"\",\"\"), string.punctuation).strip().split()\n",
    "\n",
    "lower = df.rdd.map(lambda x:(int(x['year']), trans(x['text'])) )"
   ]
  },
  {
   "cell_type": "code",
   "execution_count": 163,
   "metadata": {
    "collapsed": false
   },
   "outputs": [],
   "source": [
    "allwords = lower.flatMap(lambda x: [(w,1) for w in x[1]]).reduceByKey(add).map(lambda x: (x[1], x[0]))\\\n",
    "            .sortByKey().filter(lambda x: int(x[0])>50)\n",
    "vocab = allwords.collect()[:-20]"
   ]
  },
  {
   "cell_type": "code",
   "execution_count": 164,
   "metadata": {
    "collapsed": false
   },
   "outputs": [
    {
     "data": {
      "text/plain": [
       "3150"
      ]
     },
     "execution_count": 164,
     "metadata": {},
     "output_type": "execute_result"
    }
   ],
   "source": [
    "len(vocab)"
   ]
  },
  {
   "cell_type": "code",
   "execution_count": null,
   "metadata": {
    "collapsed": false
   },
   "outputs": [],
   "source": [
    "def word"
   ]
  },
  {
   "cell_type": "code",
   "execution_count": 124,
   "metadata": {
    "collapsed": false
   },
   "outputs": [
    {
     "data": {
      "text/plain": [
       "[('the', 156612), ('of', 101305), ('to', 62371), ('and', 62252), ('in', 39984)]"
      ]
     },
     "execution_count": 124,
     "metadata": {},
     "output_type": "execute_result"
    }
   ],
   "source": []
  },
  {
   "cell_type": "code",
   "execution_count": 114,
   "metadata": {
    "collapsed": false
   },
   "outputs": [
    {
     "data": {
      "text/plain": [
       "1826095"
      ]
     },
     "execution_count": 114,
     "metadata": {},
     "output_type": "execute_result"
    }
   ],
   "source": []
  },
  {
   "cell_type": "code",
   "execution_count": 115,
   "metadata": {
    "collapsed": false
   },
   "outputs": [
    {
     "data": {
      "text/plain": [
       "32671"
      ]
     },
     "execution_count": 115,
     "metadata": {},
     "output_type": "execute_result"
    }
   ],
   "source": []
  },
  {
   "cell_type": "code",
   "execution_count": null,
   "metadata": {
    "collapsed": false
   },
   "outputs": [],
   "source": []
  },
  {
   "cell_type": "markdown",
   "metadata": {},
   "source": [
    "# Part b\n",
    "Based on cosine similarity, find\n",
    "- 50 most similar pairs of SOUs given by different Presidents.\n",
    "- 50 most similar pairs of SOUs given by the same President.\n",
    "- 25 most similar pairs of Presidents, averaging the cosine similarity over all pairsof their SOUs.\n",
    "\n",
    "When you read the above speeches, do they indeed seem similar to you? (You can read the speeches in a more reader-friendly format here: http://www.presidency. ucsb.edu/sou.php) Comment on what you find, and describe what is needed to construct a better similarity measure between documents."
   ]
  },
  {
   "cell_type": "code",
   "execution_count": null,
   "metadata": {
    "collapsed": true
   },
   "outputs": [],
   "source": []
  },
  {
   "cell_type": "markdown",
   "metadata": {},
   "source": [
    "Interpretation:"
   ]
  },
  {
   "cell_type": "markdown",
   "metadata": {},
   "source": [
    "# Part c\n",
    "Using this vector representation, cluster the speeches using k-means.\n",
    "\n",
    "Experiment with different number of clusters, and display the clusters obtained (in some manner that you choose). Comment on the clustering results, and whether or not the results are interpretable.\n",
    "\n",
    "Although the SOU dataset is not very large, you should try to exploit parallelism whenever possible in order to become familiar with this paradigm."
   ]
  },
  {
   "cell_type": "code",
   "execution_count": null,
   "metadata": {
    "collapsed": true
   },
   "outputs": [],
   "source": []
  },
  {
   "cell_type": "code",
   "execution_count": null,
   "metadata": {
    "collapsed": true
   },
   "outputs": [],
   "source": []
  },
  {
   "cell_type": "code",
   "execution_count": null,
   "metadata": {
    "collapsed": true
   },
   "outputs": [],
   "source": []
  }
 ],
 "metadata": {
  "kernelspec": {
   "display_name": "Python 2",
   "language": "python",
   "name": "python2"
  },
  "language_info": {
   "codemirror_mode": {
    "name": "ipython",
    "version": 2
   },
   "file_extension": ".py",
   "mimetype": "text/x-python",
   "name": "python",
   "nbconvert_exporter": "python",
   "pygments_lexer": "ipython2",
   "version": "2.7.12"
  }
 },
 "nbformat": 4,
 "nbformat_minor": 2
}
